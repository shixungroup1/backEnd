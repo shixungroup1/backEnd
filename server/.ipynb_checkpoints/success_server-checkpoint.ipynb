{
 "cells": [
  {
   "cell_type": "code",
   "execution_count": 1,
   "metadata": {},
   "outputs": [],
   "source": [
    "from werkzeug.utils import secure_filename\n",
    "from flask import Flask, render_template, jsonify, request, make_response, send_from_directory, abort\n",
    "import time\n",
    "import os\n",
    "from strUtil import Pic_str\n",
    "import base64\n",
    "from flask_cors import CORS\n",
    "# 原文：https://blog.csdn.net/weixin_36380516/article/details/80347192 "
   ]
  },
  {
   "cell_type": "markdown",
   "metadata": {},
   "source": [
    "**定义app**"
   ]
  },
  {
   "cell_type": "code",
   "execution_count": 2,
   "metadata": {},
   "outputs": [
    {
     "data": {
      "text/plain": [
       "<flask_cors.extension.CORS at 0x7ff226f3fa58>"
      ]
     },
     "execution_count": 2,
     "metadata": {},
     "output_type": "execute_result"
    }
   ],
   "source": [
    "app = Flask(__name__)\n",
    "\n",
    "# 解决跨域访问问题\n",
    "# r'/*' 是通配符，让本服务器所有的URL 都允许跨域请求\n",
    "CORS(app, supports_credentials=True, resources=r'/*')"
   ]
  },
  {
   "cell_type": "markdown",
   "metadata": {},
   "source": [
    "**设置允许上传的照片格式和保存路径**"
   ]
  },
  {
   "cell_type": "code",
   "execution_count": 3,
   "metadata": {},
   "outputs": [],
   "source": [
    "UPLOAD_FOLDER = 'upload'\n",
    "app.config['UPLOAD_FOLDER'] = UPLOAD_FOLDER\n",
    "\n",
    "basedir = os.path.dirname(os.path.abspath(\"__file__\"))\n",
    "ALLOWED_EXTENSIONS = set(['png', 'jpg', 'JPG', 'PNG', 'gif', 'GIF'])"
   ]
  },
  {
   "cell_type": "code",
   "execution_count": 4,
   "metadata": {},
   "outputs": [],
   "source": [
    "def allowed_file(filename):\n",
    "    return '.' in filename and filename.rsplit('.', 1)[1] in ALLOWED_EXTENSIONS"
   ]
  },
  {
   "cell_type": "markdown",
   "metadata": {},
   "source": [
    "**设置路由**"
   ]
  },
  {
   "cell_type": "code",
   "execution_count": 5,
   "metadata": {},
   "outputs": [],
   "source": [
    "@app.route('/upload')\n",
    "def upload_test():\n",
    "    return render_template('index1.html')\n",
    " \n",
    " \n",
    "# 上传文件\n",
    "@app.route('/up_photo', methods=['POST'], strict_slashes=False)\n",
    "def api_upload():\n",
    "    file_dir = os.path.join(basedir, app.config['UPLOAD_FOLDER'])\n",
    "    if not os.path.exists(file_dir):\n",
    "        os.makedirs(file_dir)\n",
    "    f = request.files['file']\n",
    "    if f and allowed_file(f.filename):\n",
    "        fname = secure_filename(f.filename)\n",
    "        print (fname)\n",
    "        ext = fname.rsplit('.', 1)[1]\n",
    "        print(ext)\n",
    "        new_filename = Pic_str().create_uuid() + '.' + ext\n",
    "        f.save(os.path.join(file_dir, new_filename))\n",
    " \n",
    "        return jsonify({\"success\": 0, \"msg\": \"上传成功\"})\n",
    "    else:\n",
    "        return jsonify({\"error\": 1001, \"msg\": \"上传失败\"})\n",
    " \n",
    "@app.route('/download/<string:filename>', methods=['GET'])\n",
    "def download(filename):\n",
    "    if request.method == \"GET\":\n",
    "        if os.path.isfile(os.path.join('upload', filename)):\n",
    "            return send_from_directory('upload', filename, as_attachment=True)\n",
    "        pass\n",
    "    \n",
    "    \n",
    "# show photo\n",
    "@app.route('/show/<string:filename>', methods=['GET'])\n",
    "def show_photo(filename):\n",
    "    file_dir = os.path.join(basedir, app.config['UPLOAD_FOLDER'])\n",
    "    if request.method == 'GET':\n",
    "        if filename is None:\n",
    "            pass\n",
    "        else:\n",
    "            image_data = open(os.path.join(file_dir, '%s' % filename), \"rb\").read()\n",
    "            response = make_response(image_data)\n",
    "            response.headers['Content-Type'] = 'image/png'\n",
    "            return response\n",
    "    else:\n",
    "        pass"
   ]
  },
  {
   "cell_type": "code",
   "execution_count": null,
   "metadata": {},
   "outputs": [
    {
     "name": "stdout",
     "output_type": "stream",
     "text": [
      " * Serving Flask app \"__main__\" (lazy loading)\n",
      " * Environment: production\n",
      "   WARNING: Do not use the development server in a production environment.\n",
      "   Use a production WSGI server instead.\n",
      " * Debug mode: off\n"
     ]
    },
    {
     "name": "stderr",
     "output_type": "stream",
     "text": [
      " * Running on http://0.0.0.0:9000/ (Press CTRL+C to quit)\n",
      "172.18.33.181 - - [19/May/2019 17:00:15] \"\u001b[37mGET /upload HTTP/1.1\u001b[0m\" 200 -\n",
      "172.18.33.181 - - [19/May/2019 17:00:35] \"\u001b[37mPOST /up_photo HTTP/1.1\u001b[0m\" 200 -\n"
     ]
    },
    {
     "name": "stdout",
     "output_type": "stream",
     "text": [
      "test2.png\n"
     ]
    },
    {
     "name": "stderr",
     "output_type": "stream",
     "text": [
      "172.18.33.181 - - [19/May/2019 17:01:45] \"\u001b[37mGET /show/2019051917003587.png HTTP/1.1\u001b[0m\" 200 -\n",
      "172.18.33.181 - - [19/May/2019 17:01:57] \"\u001b[37mGET /download/2019051917003587.png HTTP/1.1\u001b[0m\" 200 -\n"
     ]
    }
   ],
   "source": [
    "app.run(host='0.0.0.0', port=9000)"
   ]
  },
  {
   "cell_type": "code",
   "execution_count": null,
   "metadata": {},
   "outputs": [],
   "source": []
  }
 ],
 "metadata": {
  "kernelspec": {
   "display_name": "Python 3",
   "language": "python",
   "name": "python3"
  },
  "language_info": {
   "codemirror_mode": {
    "name": "ipython",
    "version": 3
   },
   "file_extension": ".py",
   "mimetype": "text/x-python",
   "name": "python",
   "nbconvert_exporter": "python",
   "pygments_lexer": "ipython3",
   "version": "3.7.3"
  }
 },
 "nbformat": 4,
 "nbformat_minor": 2
}
