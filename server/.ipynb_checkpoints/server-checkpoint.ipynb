{
 "cells": [
  {
   "cell_type": "code",
   "execution_count": 1,
   "metadata": {},
   "outputs": [],
   "source": [
    "from flask import Flask, render_template, Response,jsonify,request\n",
    "import os\n",
    "import json\n",
    "import os.path\n",
    "import requests\n",
    "from flask_cors import CORS "
   ]
  },
  {
   "cell_type": "code",
   "execution_count": 2,
   "metadata": {},
   "outputs": [],
   "source": [
    "app = Flask(__name__)\n",
    "# 解决跨域访问问题\n",
    "# r'/*' 是通配符，让本服务器所有的URL 都允许跨域请求\n",
    "CORS(app, supports_credentials=True, resources=r'/*')\n",
    "\n",
    "url = 'http://172.18.167.9:5000'"
   ]
  },
  {
   "cell_type": "code",
   "execution_count": 3,
   "metadata": {},
   "outputs": [],
   "source": [
    "@app.route('/')\n",
    "def index():\n",
    "    return render_template('index.html')\n",
    "\n",
    "\n",
    "@app.route('/upload/', methods=['POST'])\n",
    "def uploadiamge():\n",
    "    '''\n",
    "    save a pic on py project from local pc\n",
    "    :return:\n",
    "    '''\n",
    "    file = request.files['filechoose']\n",
    "    file.save('static/images/test.png')\n",
    "    return use_detect_api()\n",
    "\n",
    "\n",
    "def use_detect_api():\n",
    "    basedir = os.path.dirname(os.path.abspath(\"__file__\"))\n",
    "    f = open(basedir + 'static/images/test.png', 'rb')#如果不加b，则会报转码错误\n",
    "    file = {'image': f}\n",
    "\n",
    "    #r 是个response对象\n",
    "    r = requests.post(url + '/detect', files=file)\n",
    "    #print(type(r.text)) #str\n",
    "    resJson = json.loads(r.text)\n",
    "    #print(type(resJson)) #dict\n",
    "    #1.会将内容转换为json，\n",
    "    #2.修改Content-Type为application/json。\n",
    "    return jsonify(resJson)"
   ]
  },
  {
   "cell_type": "code",
   "execution_count": null,
   "metadata": {},
   "outputs": [
    {
     "name": "stdout",
     "output_type": "stream",
     "text": [
      " * Serving Flask app \"__main__\" (lazy loading)\n",
      " * Environment: production\n",
      "   WARNING: Do not use the development server in a production environment.\n",
      "   Use a production WSGI server instead.\n",
      " * Debug mode: off\n"
     ]
    },
    {
     "name": "stderr",
     "output_type": "stream",
     "text": [
      " * Running on http://0.0.0.0:9000/ (Press CTRL+C to quit)\n",
      "172.18.33.181 - - [18/May/2019 16:49:21] \"\u001b[37mGET / HTTP/1.1\u001b[0m\" 200 -\n",
      "[2019-05-18 16:49:30,000] ERROR in app: Exception on /upload/ [POST]\n",
      "Traceback (most recent call last):\n",
      "  File \"/data3/yanpengxiang/anaconda3/envs/pls-env/lib/python3.7/site-packages/flask/app.py\", line 2292, in wsgi_app\n",
      "    response = self.full_dispatch_request()\n",
      "  File \"/data3/yanpengxiang/anaconda3/envs/pls-env/lib/python3.7/site-packages/flask/app.py\", line 1815, in full_dispatch_request\n",
      "    rv = self.handle_user_exception(e)\n",
      "  File \"/data3/yanpengxiang/anaconda3/envs/pls-env/lib/python3.7/site-packages/flask_cors/extension.py\", line 161, in wrapped_function\n",
      "    return cors_after_request(app.make_response(f(*args, **kwargs)))\n",
      "  File \"/data3/yanpengxiang/anaconda3/envs/pls-env/lib/python3.7/site-packages/flask/app.py\", line 1718, in handle_user_exception\n",
      "    reraise(exc_type, exc_value, tb)\n",
      "  File \"/data3/yanpengxiang/anaconda3/envs/pls-env/lib/python3.7/site-packages/flask/_compat.py\", line 35, in reraise\n",
      "    raise value\n",
      "  File \"/data3/yanpengxiang/anaconda3/envs/pls-env/lib/python3.7/site-packages/flask/app.py\", line 1813, in full_dispatch_request\n",
      "    rv = self.dispatch_request()\n",
      "  File \"/data3/yanpengxiang/anaconda3/envs/pls-env/lib/python3.7/site-packages/flask/app.py\", line 1799, in dispatch_request\n",
      "    return self.view_functions[rule.endpoint](**req.view_args)\n",
      "  File \"<ipython-input-3-fc1a78c17808>\", line 14, in uploadiamge\n",
      "    return use_detect_api()\n",
      "  File \"<ipython-input-3-fc1a78c17808>\", line 18, in use_detect_api\n",
      "    basedir = os.path.dirname(__file__)\n",
      "NameError: name '__file__' is not defined\n",
      "172.18.33.181 - - [18/May/2019 16:49:30] \"\u001b[1m\u001b[35mPOST /upload/ HTTP/1.1\u001b[0m\" 500 -\n"
     ]
    }
   ],
   "source": [
    "app.run(host='0.0.0.0', port=9000)"
   ]
  },
  {
   "cell_type": "code",
   "execution_count": null,
   "metadata": {},
   "outputs": [],
   "source": []
  }
 ],
 "metadata": {
  "kernelspec": {
   "display_name": "Python 3",
   "language": "python",
   "name": "python3"
  },
  "language_info": {
   "codemirror_mode": {
    "name": "ipython",
    "version": 3
   },
   "file_extension": ".py",
   "mimetype": "text/x-python",
   "name": "python",
   "nbconvert_exporter": "python",
   "pygments_lexer": "ipython3",
   "version": "3.7.3"
  }
 },
 "nbformat": 4,
 "nbformat_minor": 2
}
